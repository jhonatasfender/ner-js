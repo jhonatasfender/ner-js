{
 "cells": [
  {
   "cell_type": "code",
   "execution_count": 1,
   "metadata": {},
   "outputs": [
    {
     "data": {
      "application/javascript": [
       "\n",
       "            setTimeout(function() {\n",
       "                var nbb_cell_id = 1;\n",
       "                var nbb_unformatted_code = \"%load_ext nb_black\";\n",
       "                var nbb_formatted_code = \"%load_ext nb_black\";\n",
       "                var nbb_cells = Jupyter.notebook.get_cells();\n",
       "                for (var i = 0; i < nbb_cells.length; ++i) {\n",
       "                    if (nbb_cells[i].input_prompt_number == nbb_cell_id) {\n",
       "                        if (nbb_cells[i].get_text() == nbb_unformatted_code) {\n",
       "                             nbb_cells[i].set_text(nbb_formatted_code);\n",
       "                        }\n",
       "                        break;\n",
       "                    }\n",
       "                }\n",
       "            }, 500);\n",
       "            "
      ],
      "text/plain": [
       "<IPython.core.display.Javascript object>"
      ]
     },
     "metadata": {},
     "output_type": "display_data"
    }
   ],
   "source": [
    "%load_ext nb_black"
   ]
  },
  {
   "cell_type": "code",
   "execution_count": 2,
   "metadata": {},
   "outputs": [
    {
     "data": {
      "application/javascript": [
       "\n",
       "            setTimeout(function() {\n",
       "                var nbb_cell_id = 2;\n",
       "                var nbb_unformatted_code = \"import spacy\\nfrom spacy import displacy\";\n",
       "                var nbb_formatted_code = \"import spacy\\nfrom spacy import displacy\";\n",
       "                var nbb_cells = Jupyter.notebook.get_cells();\n",
       "                for (var i = 0; i < nbb_cells.length; ++i) {\n",
       "                    if (nbb_cells[i].input_prompt_number == nbb_cell_id) {\n",
       "                        if (nbb_cells[i].get_text() == nbb_unformatted_code) {\n",
       "                             nbb_cells[i].set_text(nbb_formatted_code);\n",
       "                        }\n",
       "                        break;\n",
       "                    }\n",
       "                }\n",
       "            }, 500);\n",
       "            "
      ],
      "text/plain": [
       "<IPython.core.display.Javascript object>"
      ]
     },
     "metadata": {},
     "output_type": "display_data"
    }
   ],
   "source": [
    "import spacy\n",
    "from spacy import displacy"
   ]
  },
  {
   "cell_type": "code",
   "execution_count": 3,
   "metadata": {},
   "outputs": [
    {
     "data": {
      "application/javascript": [
       "\n",
       "            setTimeout(function() {\n",
       "                var nbb_cell_id = 3;\n",
       "                var nbb_unformatted_code = \"def docToDict(token: spacy.tokens.Token, again: bool = True):\\n    try:\\n        return {\\n            \\\"sent\\\": {\\n                \\\"start\\\": token.sent.start,\\n                \\\"end\\\": token.sent.end\\n            },\\n            \\\"tensor\\\": [str(tensor) for tensor in token.tensor],\\n            \\\"text\\\": token.text,\\n            \\\"text_with_ws\\\": token.text_with_ws,\\n            \\\"whitespace\\\": token.whitespace_,\\n            \\\"orth\\\": token.orth,\\n            \\\"orth\\\": token.orth_,\\n            \\\"head\\\": docToDict(token.head, False) if again else {},\\n            \\\"left_edge\\\":  docToDict(token.left_edge, False) if again else {},\\n            \\\"right_edge\\\": docToDict(token.right_edge, False) if again else {},\\n            \\\"i\\\": token.i,\\n            \\\"ent_type\\\": token.ent_type,\\n            \\\"ent_type\\\": token.ent_type_,\\n            \\\"ent_iob\\\": token.ent_iob,\\n            \\\"ent_iob\\\": token.ent_iob_,\\n            \\\"ent_kb_id\\\": token.ent_kb_id,\\n            \\\"ent_kb_id_\\\": token.ent_kb_id_,\\n            \\\"ent_id\\\": token.ent_id,\\n            \\\"ent_id\\\": token.ent_id_,\\n            \\\"lemma\\\": token.lemma,\\n            \\\"lemma\\\": token.lemma_,\\n            \\\"norm\\\": token.norm,\\n            \\\"norm\\\": token.norm_,\\n            \\\"lower\\\": token.lower,\\n            \\\"lower\\\": token.lower_,\\n            \\\"shape\\\": token.shape,\\n            \\\"shape\\\": token.shape_,\\n            \\\"prefix\\\": token.prefix,\\n            \\\"prefix\\\": token.prefix_,\\n            \\\"suffix\\\": token.suffix,\\n            \\\"suffix\\\": token.suffix_,\\n            \\\"is_alpha\\\": token.is_alpha,\\n            \\\"is_ascii\\\": token.is_ascii,\\n            \\\"is_digit\\\": token.is_digit,\\n            \\\"is_lower\\\": token.is_lower,\\n            \\\"is_upper\\\": token.is_upper,\\n            \\\"is_title\\\": token.is_title,\\n            \\\"is_punct\\\": token.is_punct,\\n            \\\"is_left_punct\\\": token.is_left_punct,\\n            \\\"is_right_punct\\\": token.is_right_punct,\\n            \\\"is_space\\\": token.is_space,\\n            \\\"is_bracket\\\": token.is_bracket,\\n            \\\"is_quote\\\": token.is_quote,\\n            \\\"is_currency\\\": token.is_currency,\\n            \\\"like_url\\\": token.like_url,\\n            \\\"like_num\\\": token.like_num,\\n            \\\"like_email\\\": token.like_email,\\n            \\\"is_oov\\\": token.is_oov,\\n            \\\"is_stop\\\": token.is_stop,\\n            \\\"pos\\\": token.pos,\\n            \\\"pos\\\": token.pos_,\\n            \\\"tag\\\": token.tag,\\n            \\\"tag\\\": token.tag_,\\n            \\\"dep\\\": token.dep,\\n            \\\"dep\\\": token.dep_,\\n            \\\"lang\\\": token.lang,\\n            \\\"lang\\\": token.lang_,\\n            \\\"prob\\\": token.prob,\\n            \\\"idx\\\": token.idx,\\n            \\\"sentiment\\\": token.sentiment,\\n            \\\"lex_id\\\": token.lex_id,\\n            \\\"rank\\\": token.rank,\\n            \\\"cluster\\\": token.cluster,\\n            \\\"position_start_text\\\": token.idx,\\n            \\\"position_end_text\\\": token.idx+len(token.text)-1\\n        }\\n    except:\\n        return {}\";\n",
       "                var nbb_formatted_code = \"def docToDict(token: spacy.tokens.Token, again: bool = True):\\n    try:\\n        return {\\n            \\\"sent\\\": {\\\"start\\\": token.sent.start, \\\"end\\\": token.sent.end},\\n            \\\"tensor\\\": [str(tensor) for tensor in token.tensor],\\n            \\\"text\\\": token.text,\\n            \\\"text_with_ws\\\": token.text_with_ws,\\n            \\\"whitespace\\\": token.whitespace_,\\n            \\\"orth\\\": token.orth,\\n            \\\"orth\\\": token.orth_,\\n            \\\"head\\\": docToDict(token.head, False) if again else {},\\n            \\\"left_edge\\\": docToDict(token.left_edge, False) if again else {},\\n            \\\"right_edge\\\": docToDict(token.right_edge, False) if again else {},\\n            \\\"i\\\": token.i,\\n            \\\"ent_type\\\": token.ent_type,\\n            \\\"ent_type\\\": token.ent_type_,\\n            \\\"ent_iob\\\": token.ent_iob,\\n            \\\"ent_iob\\\": token.ent_iob_,\\n            \\\"ent_kb_id\\\": token.ent_kb_id,\\n            \\\"ent_kb_id_\\\": token.ent_kb_id_,\\n            \\\"ent_id\\\": token.ent_id,\\n            \\\"ent_id\\\": token.ent_id_,\\n            \\\"lemma\\\": token.lemma,\\n            \\\"lemma\\\": token.lemma_,\\n            \\\"norm\\\": token.norm,\\n            \\\"norm\\\": token.norm_,\\n            \\\"lower\\\": token.lower,\\n            \\\"lower\\\": token.lower_,\\n            \\\"shape\\\": token.shape,\\n            \\\"shape\\\": token.shape_,\\n            \\\"prefix\\\": token.prefix,\\n            \\\"prefix\\\": token.prefix_,\\n            \\\"suffix\\\": token.suffix,\\n            \\\"suffix\\\": token.suffix_,\\n            \\\"is_alpha\\\": token.is_alpha,\\n            \\\"is_ascii\\\": token.is_ascii,\\n            \\\"is_digit\\\": token.is_digit,\\n            \\\"is_lower\\\": token.is_lower,\\n            \\\"is_upper\\\": token.is_upper,\\n            \\\"is_title\\\": token.is_title,\\n            \\\"is_punct\\\": token.is_punct,\\n            \\\"is_left_punct\\\": token.is_left_punct,\\n            \\\"is_right_punct\\\": token.is_right_punct,\\n            \\\"is_space\\\": token.is_space,\\n            \\\"is_bracket\\\": token.is_bracket,\\n            \\\"is_quote\\\": token.is_quote,\\n            \\\"is_currency\\\": token.is_currency,\\n            \\\"like_url\\\": token.like_url,\\n            \\\"like_num\\\": token.like_num,\\n            \\\"like_email\\\": token.like_email,\\n            \\\"is_oov\\\": token.is_oov,\\n            \\\"is_stop\\\": token.is_stop,\\n            \\\"pos\\\": token.pos,\\n            \\\"pos\\\": token.pos_,\\n            \\\"tag\\\": token.tag,\\n            \\\"tag\\\": token.tag_,\\n            \\\"dep\\\": token.dep,\\n            \\\"dep\\\": token.dep_,\\n            \\\"lang\\\": token.lang,\\n            \\\"lang\\\": token.lang_,\\n            \\\"prob\\\": token.prob,\\n            \\\"idx\\\": token.idx,\\n            \\\"sentiment\\\": token.sentiment,\\n            \\\"lex_id\\\": token.lex_id,\\n            \\\"rank\\\": token.rank,\\n            \\\"cluster\\\": token.cluster,\\n            \\\"position_start_text\\\": token.idx,\\n            \\\"position_end_text\\\": token.idx + len(token.text) - 1,\\n        }\\n    except:\\n        return {}\";\n",
       "                var nbb_cells = Jupyter.notebook.get_cells();\n",
       "                for (var i = 0; i < nbb_cells.length; ++i) {\n",
       "                    if (nbb_cells[i].input_prompt_number == nbb_cell_id) {\n",
       "                        if (nbb_cells[i].get_text() == nbb_unformatted_code) {\n",
       "                             nbb_cells[i].set_text(nbb_formatted_code);\n",
       "                        }\n",
       "                        break;\n",
       "                    }\n",
       "                }\n",
       "            }, 500);\n",
       "            "
      ],
      "text/plain": [
       "<IPython.core.display.Javascript object>"
      ]
     },
     "metadata": {},
     "output_type": "display_data"
    }
   ],
   "source": [
    "def docToDict(token: spacy.tokens.Token, again: bool = True):\n",
    "    try:\n",
    "        return {\n",
    "            \"sent\": {\n",
    "                \"start\": token.sent.start,\n",
    "                \"end\": token.sent.end\n",
    "            },\n",
    "            \"tensor\": [str(tensor) for tensor in token.tensor],\n",
    "            \"text\": token.text,\n",
    "            \"text_with_ws\": token.text_with_ws,\n",
    "            \"whitespace\": token.whitespace_,\n",
    "            \"orth\": token.orth,\n",
    "            \"orth\": token.orth_,\n",
    "            \"head\": docToDict(token.head, False) if again else {},\n",
    "            \"left_edge\":  docToDict(token.left_edge, False) if again else {},\n",
    "            \"right_edge\": docToDict(token.right_edge, False) if again else {},\n",
    "            \"i\": token.i,\n",
    "            \"ent_type\": token.ent_type,\n",
    "            \"ent_type\": token.ent_type_,\n",
    "            \"ent_iob\": token.ent_iob,\n",
    "            \"ent_iob\": token.ent_iob_,\n",
    "            \"ent_kb_id\": token.ent_kb_id,\n",
    "            \"ent_kb_id_\": token.ent_kb_id_,\n",
    "            \"ent_id\": token.ent_id,\n",
    "            \"ent_id\": token.ent_id_,\n",
    "            \"lemma\": token.lemma,\n",
    "            \"lemma\": token.lemma_,\n",
    "            \"norm\": token.norm,\n",
    "            \"norm\": token.norm_,\n",
    "            \"lower\": token.lower,\n",
    "            \"lower\": token.lower_,\n",
    "            \"shape\": token.shape,\n",
    "            \"shape\": token.shape_,\n",
    "            \"prefix\": token.prefix,\n",
    "            \"prefix\": token.prefix_,\n",
    "            \"suffix\": token.suffix,\n",
    "            \"suffix\": token.suffix_,\n",
    "            \"is_alpha\": token.is_alpha,\n",
    "            \"is_ascii\": token.is_ascii,\n",
    "            \"is_digit\": token.is_digit,\n",
    "            \"is_lower\": token.is_lower,\n",
    "            \"is_upper\": token.is_upper,\n",
    "            \"is_title\": token.is_title,\n",
    "            \"is_punct\": token.is_punct,\n",
    "            \"is_left_punct\": token.is_left_punct,\n",
    "            \"is_right_punct\": token.is_right_punct,\n",
    "            \"is_space\": token.is_space,\n",
    "            \"is_bracket\": token.is_bracket,\n",
    "            \"is_quote\": token.is_quote,\n",
    "            \"is_currency\": token.is_currency,\n",
    "            \"like_url\": token.like_url,\n",
    "            \"like_num\": token.like_num,\n",
    "            \"like_email\": token.like_email,\n",
    "            \"is_oov\": token.is_oov,\n",
    "            \"is_stop\": token.is_stop,\n",
    "            \"pos\": token.pos,\n",
    "            \"pos\": token.pos_,\n",
    "            \"tag\": token.tag,\n",
    "            \"tag\": token.tag_,\n",
    "            \"dep\": token.dep,\n",
    "            \"dep\": token.dep_,\n",
    "            \"lang\": token.lang,\n",
    "            \"lang\": token.lang_,\n",
    "            \"prob\": token.prob,\n",
    "            \"idx\": token.idx,\n",
    "            \"sentiment\": token.sentiment,\n",
    "            \"lex_id\": token.lex_id,\n",
    "            \"rank\": token.rank,\n",
    "            \"cluster\": token.cluster,\n",
    "            \"position_start_text\": token.idx,\n",
    "            \"position_end_text\": token.idx+len(token.text)-1\n",
    "        }\n",
    "    except:\n",
    "        return {}\n"
   ]
  },
  {
   "cell_type": "code",
   "execution_count": 4,
   "metadata": {},
   "outputs": [
    {
     "data": {
      "application/javascript": [
       "\n",
       "            setTimeout(function() {\n",
       "                var nbb_cell_id = 4;\n",
       "                var nbb_unformatted_code = \"nlp = spacy.load(\\\"pt_core_news_sm\\\")\\ndoc = nlp(\\n    \\\"\\\"\\\"Al\\u00e9m de Paulo Maia, os advogados Carlos F\\u00e1bio e Sheyner Asf\\u00f3ra disputavam a presid\\u00eancia da OAB/PB.\\n\\n            Confirmado o resultado, Paulo Maia comemorou a vit\\u00f3ria e disse que \\u201ca verdade prevaleceu e a advocacia soube escolher aqueles que a honram\\u201d. \\u201cA gest\\u00e3o foi determinante para vit\\u00f3ria.\\u201d\\n            \\n            Apuradas mais de 95% das urnas, foram registrados 7643 votos, com Paulo Maia obtendo 3.695 (48,34%), Carlos F\\u00e1bio 2.562 (33,52%) e Sheyner Asfora 1.386 (18,13%). Devido \\u00e0 contabiliza\\u00e7\\u00e3o de c\\u00e9dulas em urnas manuais, a Comiss\\u00e3o Eleitoral, que comandou o pleito, est\\u00e1 fazendo o somat\\u00f3rio e deve fechar o resultado final nas pr\\u00f3ximas horas.\\\"\\\"\\\"\\n)\";\n",
       "                var nbb_formatted_code = \"nlp = spacy.load(\\\"pt_core_news_sm\\\")\\ndoc = nlp(\\n    \\\"\\\"\\\"Al\\u00e9m de Paulo Maia, os advogados Carlos F\\u00e1bio e Sheyner Asf\\u00f3ra disputavam a presid\\u00eancia da OAB/PB.\\n\\n            Confirmado o resultado, Paulo Maia comemorou a vit\\u00f3ria e disse que \\u201ca verdade prevaleceu e a advocacia soube escolher aqueles que a honram\\u201d. \\u201cA gest\\u00e3o foi determinante para vit\\u00f3ria.\\u201d\\n            \\n            Apuradas mais de 95% das urnas, foram registrados 7643 votos, com Paulo Maia obtendo 3.695 (48,34%), Carlos F\\u00e1bio 2.562 (33,52%) e Sheyner Asfora 1.386 (18,13%). Devido \\u00e0 contabiliza\\u00e7\\u00e3o de c\\u00e9dulas em urnas manuais, a Comiss\\u00e3o Eleitoral, que comandou o pleito, est\\u00e1 fazendo o somat\\u00f3rio e deve fechar o resultado final nas pr\\u00f3ximas horas.\\\"\\\"\\\"\\n)\";\n",
       "                var nbb_cells = Jupyter.notebook.get_cells();\n",
       "                for (var i = 0; i < nbb_cells.length; ++i) {\n",
       "                    if (nbb_cells[i].input_prompt_number == nbb_cell_id) {\n",
       "                        if (nbb_cells[i].get_text() == nbb_unformatted_code) {\n",
       "                             nbb_cells[i].set_text(nbb_formatted_code);\n",
       "                        }\n",
       "                        break;\n",
       "                    }\n",
       "                }\n",
       "            }, 500);\n",
       "            "
      ],
      "text/plain": [
       "<IPython.core.display.Javascript object>"
      ]
     },
     "metadata": {},
     "output_type": "display_data"
    }
   ],
   "source": [
    "nlp = spacy.load(\"pt_core_news_sm\")\n",
    "doc = nlp(\n",
    "    \"\"\"Além de Paulo Maia, os advogados Carlos Fábio e Sheyner Asfóra disputavam a presidência da OAB/PB.\n",
    "\n",
    "            Confirmado o resultado, Paulo Maia comemorou a vitória e disse que “a verdade prevaleceu e a advocacia soube escolher aqueles que a honram”. “A gestão foi determinante para vitória.”\n",
    "            \n",
    "            Apuradas mais de 95% das urnas, foram registrados 7643 votos, com Paulo Maia obtendo 3.695 (48,34%), Carlos Fábio 2.562 (33,52%) e Sheyner Asfora 1.386 (18,13%). Devido à contabilização de cédulas em urnas manuais, a Comissão Eleitoral, que comandou o pleito, está fazendo o somatório e deve fechar o resultado final nas próximas horas.\"\"\"\n",
    ")\n"
   ]
  },
  {
   "cell_type": "code",
   "execution_count": 18,
   "metadata": {},
   "outputs": [
    {
     "data": {
      "application/javascript": [
       "\n",
       "            setTimeout(function() {\n",
       "                var nbb_cell_id = 18;\n",
       "                var nbb_unformatted_code = \"\\ndef entity(ent: spacy.tokens.span.Span):\\n    return {\\n        \\\"start\\\": ent.start,\\n        \\\"end\\\": ent.end,\\n        \\\"label\\\": ent.label_,\\n        \\\"text\\\": ent.text,\\n        #######################\\n        \\\"conjuncts\\\": ent.conjuncts,\\n        \\\"end\\\": ent.end,\\n        \\\"end_char\\\": ent.end_char,\\n        \\\"ent_id\\\": ent.ent_id,\\n        \\\"ent_id_\\\": ent.ent_id_,\\n        \\\"ents\\\": ent.ents,\\n        \\\"kb_id\\\": ent.kb_id,\\n        \\\"kb_id_\\\": ent.kb_id_,\\n        \\\"label\\\": ent.label,\\n        \\\"label_\\\": ent.label_,\\n        \\\"lemma_\\\": ent.lemma_,\\n        \\\"lower_\\\": ent.lower_,\\n        \\\"n_lefts\\\": ent.n_lefts,\\n        \\\"n_rights\\\": ent.n_rights,\\n        \\\"orth_\\\": ent.orth_,\\n        \\\"root\\\": ent.root,\\n        \\\"sentiment\\\": ent.sentiment,\\n        \\\"start\\\": ent.start,\\n        \\\"start_char\\\": ent.start_char,\\n        \\\"string\\\": ent.string,\\n        \\\"text\\\": ent.text,\\n        \\\"text_with_ws\\\": ent.text_with_ws,\\n        \\\"upper_\\\": ent.upper_,\\n        \\\"vector\\\": ent.vector,\\n        \\\"vector_norm\\\": ent.vector_norm,\\n    }\";\n",
       "                var nbb_formatted_code = \"def entity(ent: spacy.tokens.span.Span):\\n    return {\\n        \\\"start\\\": ent.start,\\n        \\\"end\\\": ent.end,\\n        \\\"label\\\": ent.label_,\\n        \\\"text\\\": ent.text,\\n        #######################\\n        \\\"conjuncts\\\": ent.conjuncts,\\n        \\\"end\\\": ent.end,\\n        \\\"end_char\\\": ent.end_char,\\n        \\\"ent_id\\\": ent.ent_id,\\n        \\\"ent_id_\\\": ent.ent_id_,\\n        \\\"ents\\\": ent.ents,\\n        \\\"kb_id\\\": ent.kb_id,\\n        \\\"kb_id_\\\": ent.kb_id_,\\n        \\\"label\\\": ent.label,\\n        \\\"label_\\\": ent.label_,\\n        \\\"lemma_\\\": ent.lemma_,\\n        \\\"lower_\\\": ent.lower_,\\n        \\\"n_lefts\\\": ent.n_lefts,\\n        \\\"n_rights\\\": ent.n_rights,\\n        \\\"orth_\\\": ent.orth_,\\n        \\\"root\\\": ent.root,\\n        \\\"sentiment\\\": ent.sentiment,\\n        \\\"start\\\": ent.start,\\n        \\\"start_char\\\": ent.start_char,\\n        \\\"string\\\": ent.string,\\n        \\\"text\\\": ent.text,\\n        \\\"text_with_ws\\\": ent.text_with_ws,\\n        \\\"upper_\\\": ent.upper_,\\n        \\\"vector\\\": ent.vector,\\n        \\\"vector_norm\\\": ent.vector_norm,\\n    }\";\n",
       "                var nbb_cells = Jupyter.notebook.get_cells();\n",
       "                for (var i = 0; i < nbb_cells.length; ++i) {\n",
       "                    if (nbb_cells[i].input_prompt_number == nbb_cell_id) {\n",
       "                        if (nbb_cells[i].get_text() == nbb_unformatted_code) {\n",
       "                             nbb_cells[i].set_text(nbb_formatted_code);\n",
       "                        }\n",
       "                        break;\n",
       "                    }\n",
       "                }\n",
       "            }, 500);\n",
       "            "
      ],
      "text/plain": [
       "<IPython.core.display.Javascript object>"
      ]
     },
     "metadata": {},
     "output_type": "display_data"
    }
   ],
   "source": [
    "def entity(ent: spacy.tokens.span.Span):\n",
    "    return {\n",
    "        \"start\": ent.start,\n",
    "        \"end\": ent.end,\n",
    "        \"label\": ent.label_,\n",
    "        \"text\": ent.text,\n",
    "        #######################\n",
    "        \"conjuncts\": ent.conjuncts,\n",
    "        \"end\": ent.end,\n",
    "        \"end_char\": ent.end_char,\n",
    "        \"ent_id\": ent.ent_id,\n",
    "        \"ent_id_\": ent.ent_id_,\n",
    "        \"ents\": ent.ents,\n",
    "        \"kb_id\": ent.kb_id,\n",
    "        \"kb_id_\": ent.kb_id_,\n",
    "        \"label\": ent.label,\n",
    "        \"label_\": ent.label_,\n",
    "        \"lemma_\": ent.lemma_,\n",
    "        \"lower_\": ent.lower_,\n",
    "        \"n_lefts\": ent.n_lefts,\n",
    "        \"n_rights\": ent.n_rights,\n",
    "        \"orth_\": ent.orth_,\n",
    "        \"root\": ent.root,\n",
    "        \"sentiment\": ent.sentiment,\n",
    "        \"start\": ent.start,\n",
    "        \"start_char\": ent.start_char,\n",
    "        \"string\": ent.string,\n",
    "        \"text\": ent.text,\n",
    "        \"text_with_ws\": ent.text_with_ws,\n",
    "        \"upper_\": ent.upper_,\n",
    "        \"vector\": ent.vector,\n",
    "        \"vector_norm\": ent.vector_norm,\n",
    "    }"
   ]
  },
  {
   "cell_type": "code",
   "execution_count": 21,
   "metadata": {},
   "outputs": [
    {
     "name": "stdout",
     "output_type": "stream",
     "text": [
      "<class 'spacy.tokens.token.Token'>\n",
      "<class 'spacy.tokens.token.Token'>\n",
      "<class 'spacy.tokens.token.Token'>\n",
      "<class 'spacy.tokens.token.Token'>\n",
      "<class 'spacy.tokens.token.Token'>\n",
      "<class 'spacy.tokens.token.Token'>\n",
      "<class 'spacy.tokens.token.Token'>\n",
      "<class 'spacy.tokens.token.Token'>\n",
      "<class 'spacy.tokens.token.Token'>\n",
      "<class 'spacy.tokens.token.Token'>\n",
      "<class 'spacy.tokens.token.Token'>\n"
     ]
    },
    {
     "data": {
      "application/javascript": [
       "\n",
       "            setTimeout(function() {\n",
       "                var nbb_cell_id = 21;\n",
       "                var nbb_unformatted_code = \"json_doc = {\\n    \\\"text\\\": doc.text,\\n    \\\"text_with_ws\\\": doc.text_with_ws,\\n    \\\"cats\\\": doc.cats,\\n    \\\"is_tagged\\\": doc.is_tagged,\\n    \\\"is_parsed\\\": doc.is_parsed,\\n    # \\\"is_nered\\\": doc.is_nered,\\n    \\\"is_sentenced\\\": doc.is_sentenced,\\n}\\n\\nents = [entity(ent) for ent in doc.ents]\\n\\nfor ent in doc.ents:\\n    print(type(ent.root))\\n\\nif doc.is_sentenced:\\n    sents = [{\\\"start\\\": sent.start, \\\"end\\\": sent.end} for sent in doc.sents]\\nelse:\\n    sents = []\\nif doc.is_tagged and doc.is_parsed:\\n    noun_chunks = [\\n        {\\\"start\\\": chunk.start, \\\"end\\\": chunk.end} for chunk in doc.noun_chunks\\n    ]\\nelse:\\n    noun_chunks = []\\n\\ntokens = [docToDict(token) for token in doc]\\n# return {\\n#     \\\"model\\\": model,\\n#     \\\"doc\\\": json_doc,\\n#     \\\"ents\\\": ents,\\n#     \\\"sents\\\": sents,\\n#     \\\"noun_chunks\\\": noun_chunks,\\n#     \\\"tokens\\\": tokens,\\n# }\";\n",
       "                var nbb_formatted_code = \"json_doc = {\\n    \\\"text\\\": doc.text,\\n    \\\"text_with_ws\\\": doc.text_with_ws,\\n    \\\"cats\\\": doc.cats,\\n    \\\"is_tagged\\\": doc.is_tagged,\\n    \\\"is_parsed\\\": doc.is_parsed,\\n    # \\\"is_nered\\\": doc.is_nered,\\n    \\\"is_sentenced\\\": doc.is_sentenced,\\n}\\n\\nents = [entity(ent) for ent in doc.ents]\\n\\nfor ent in doc.ents:\\n    print(type(ent.root))\\n\\nif doc.is_sentenced:\\n    sents = [{\\\"start\\\": sent.start, \\\"end\\\": sent.end} for sent in doc.sents]\\nelse:\\n    sents = []\\nif doc.is_tagged and doc.is_parsed:\\n    noun_chunks = [\\n        {\\\"start\\\": chunk.start, \\\"end\\\": chunk.end} for chunk in doc.noun_chunks\\n    ]\\nelse:\\n    noun_chunks = []\\n\\ntokens = [docToDict(token) for token in doc]\\n# return {\\n#     \\\"model\\\": model,\\n#     \\\"doc\\\": json_doc,\\n#     \\\"ents\\\": ents,\\n#     \\\"sents\\\": sents,\\n#     \\\"noun_chunks\\\": noun_chunks,\\n#     \\\"tokens\\\": tokens,\\n# }\";\n",
       "                var nbb_cells = Jupyter.notebook.get_cells();\n",
       "                for (var i = 0; i < nbb_cells.length; ++i) {\n",
       "                    if (nbb_cells[i].input_prompt_number == nbb_cell_id) {\n",
       "                        if (nbb_cells[i].get_text() == nbb_unformatted_code) {\n",
       "                             nbb_cells[i].set_text(nbb_formatted_code);\n",
       "                        }\n",
       "                        break;\n",
       "                    }\n",
       "                }\n",
       "            }, 500);\n",
       "            "
      ],
      "text/plain": [
       "<IPython.core.display.Javascript object>"
      ]
     },
     "metadata": {},
     "output_type": "display_data"
    }
   ],
   "source": [
    "json_doc = {\n",
    "    \"text\": doc.text,\n",
    "    \"text_with_ws\": doc.text_with_ws,\n",
    "    \"cats\": doc.cats,\n",
    "    \"is_tagged\": doc.is_tagged,\n",
    "    \"is_parsed\": doc.is_parsed,\n",
    "    # \"is_nered\": doc.is_nered,\n",
    "    \"is_sentenced\": doc.is_sentenced,\n",
    "}\n",
    "\n",
    "ents = [entity(ent) for ent in doc.ents]\n",
    "\n",
    "for ent in doc.ents:\n",
    "    print(type(ent.root))\n",
    "\n",
    "if doc.is_sentenced:\n",
    "    sents = [{\"start\": sent.start, \"end\": sent.end} for sent in doc.sents]\n",
    "else:\n",
    "    sents = []\n",
    "if doc.is_tagged and doc.is_parsed:\n",
    "    noun_chunks = [\n",
    "        {\"start\": chunk.start, \"end\": chunk.end} for chunk in doc.noun_chunks\n",
    "    ]\n",
    "else:\n",
    "    noun_chunks = []\n",
    "\n",
    "tokens = [docToDict(token) for token in doc]\n",
    "# return {\n",
    "#     \"model\": model,\n",
    "#     \"doc\": json_doc,\n",
    "#     \"ents\": ents,\n",
    "#     \"sents\": sents,\n",
    "#     \"noun_chunks\": noun_chunks,\n",
    "#     \"tokens\": tokens,\n",
    "# }"
   ]
  },
  {
   "cell_type": "code",
   "execution_count": 6,
   "metadata": {},
   "outputs": [
    {
     "data": {
      "text/html": [
       "<span class=\"tex2jax_ignore\"><div class=\"entities\" style=\"line-height: 2.5; direction: ltr\">Além de \n",
       "<mark class=\"entity\" style=\"background: #ddd; padding: 0.45em 0.6em; margin: 0 0.25em; line-height: 1; border-radius: 0.35em;\">\n",
       "    Paulo Maia\n",
       "    <span style=\"font-size: 0.8em; font-weight: bold; line-height: 1; border-radius: 0.35em; text-transform: uppercase; vertical-align: middle; margin-left: 0.5rem\">PER</span>\n",
       "</mark>\n",
       ", os advogados \n",
       "<mark class=\"entity\" style=\"background: #ddd; padding: 0.45em 0.6em; margin: 0 0.25em; line-height: 1; border-radius: 0.35em;\">\n",
       "    Carlos Fábio\n",
       "    <span style=\"font-size: 0.8em; font-weight: bold; line-height: 1; border-radius: 0.35em; text-transform: uppercase; vertical-align: middle; margin-left: 0.5rem\">PER</span>\n",
       "</mark>\n",
       " e \n",
       "<mark class=\"entity\" style=\"background: #ddd; padding: 0.45em 0.6em; margin: 0 0.25em; line-height: 1; border-radius: 0.35em;\">\n",
       "    Sheyner Asfóra\n",
       "    <span style=\"font-size: 0.8em; font-weight: bold; line-height: 1; border-radius: 0.35em; text-transform: uppercase; vertical-align: middle; margin-left: 0.5rem\">PER</span>\n",
       "</mark>\n",
       " disputavam a presidência da OAB/\n",
       "<mark class=\"entity\" style=\"background: #7aecec; padding: 0.45em 0.6em; margin: 0 0.25em; line-height: 1; border-radius: 0.35em;\">\n",
       "    PB\n",
       "    <span style=\"font-size: 0.8em; font-weight: bold; line-height: 1; border-radius: 0.35em; text-transform: uppercase; vertical-align: middle; margin-left: 0.5rem\">ORG</span>\n",
       "</mark>\n",
       ".</br></br>            \n",
       "<mark class=\"entity\" style=\"background: #ff9561; padding: 0.45em 0.6em; margin: 0 0.25em; line-height: 1; border-radius: 0.35em;\">\n",
       "    Confirmado\n",
       "    <span style=\"font-size: 0.8em; font-weight: bold; line-height: 1; border-radius: 0.35em; text-transform: uppercase; vertical-align: middle; margin-left: 0.5rem\">LOC</span>\n",
       "</mark>\n",
       " o resultado, \n",
       "<mark class=\"entity\" style=\"background: #ddd; padding: 0.45em 0.6em; margin: 0 0.25em; line-height: 1; border-radius: 0.35em;\">\n",
       "    Paulo Maia\n",
       "    <span style=\"font-size: 0.8em; font-weight: bold; line-height: 1; border-radius: 0.35em; text-transform: uppercase; vertical-align: middle; margin-left: 0.5rem\">PER</span>\n",
       "</mark>\n",
       " comemorou a vitória e disse que “a verdade prevaleceu e a advocacia soube escolher aqueles que a honram”. “A gestão foi determinante para vitória.”</br>            </br>            \n",
       "<mark class=\"entity\" style=\"background: #ff9561; padding: 0.45em 0.6em; margin: 0 0.25em; line-height: 1; border-radius: 0.35em;\">\n",
       "    Apuradas\n",
       "    <span style=\"font-size: 0.8em; font-weight: bold; line-height: 1; border-radius: 0.35em; text-transform: uppercase; vertical-align: middle; margin-left: 0.5rem\">LOC</span>\n",
       "</mark>\n",
       " mais de 95% das urnas, foram registrados 7643 votos, com \n",
       "<mark class=\"entity\" style=\"background: #ddd; padding: 0.45em 0.6em; margin: 0 0.25em; line-height: 1; border-radius: 0.35em;\">\n",
       "    Paulo Maia\n",
       "    <span style=\"font-size: 0.8em; font-weight: bold; line-height: 1; border-radius: 0.35em; text-transform: uppercase; vertical-align: middle; margin-left: 0.5rem\">PER</span>\n",
       "</mark>\n",
       " obtendo 3.695 (48,34%), \n",
       "<mark class=\"entity\" style=\"background: #ddd; padding: 0.45em 0.6em; margin: 0 0.25em; line-height: 1; border-radius: 0.35em;\">\n",
       "    Carlos Fábio\n",
       "    <span style=\"font-size: 0.8em; font-weight: bold; line-height: 1; border-radius: 0.35em; text-transform: uppercase; vertical-align: middle; margin-left: 0.5rem\">PER</span>\n",
       "</mark>\n",
       " 2.562 (33,52%) e \n",
       "<mark class=\"entity\" style=\"background: #ddd; padding: 0.45em 0.6em; margin: 0 0.25em; line-height: 1; border-radius: 0.35em;\">\n",
       "    Sheyner Asfora\n",
       "    <span style=\"font-size: 0.8em; font-weight: bold; line-height: 1; border-radius: 0.35em; text-transform: uppercase; vertical-align: middle; margin-left: 0.5rem\">PER</span>\n",
       "</mark>\n",
       " 1.386 (18,13%). Devido à contabilização de cédulas em urnas manuais, a \n",
       "<mark class=\"entity\" style=\"background: #7aecec; padding: 0.45em 0.6em; margin: 0 0.25em; line-height: 1; border-radius: 0.35em;\">\n",
       "    Comissão Eleitoral\n",
       "    <span style=\"font-size: 0.8em; font-weight: bold; line-height: 1; border-radius: 0.35em; text-transform: uppercase; vertical-align: middle; margin-left: 0.5rem\">ORG</span>\n",
       "</mark>\n",
       ", que comandou o pleito, está fazendo o somatório e deve fechar o resultado final nas próximas horas.</div></span>"
      ],
      "text/plain": [
       "<IPython.core.display.HTML object>"
      ]
     },
     "metadata": {},
     "output_type": "display_data"
    },
    {
     "data": {
      "application/javascript": [
       "\n",
       "            setTimeout(function() {\n",
       "                var nbb_cell_id = 6;\n",
       "                var nbb_unformatted_code = \"displacy.render(doc, style=\\\"ent\\\", jupyter=True)\";\n",
       "                var nbb_formatted_code = \"displacy.render(doc, style=\\\"ent\\\", jupyter=True)\";\n",
       "                var nbb_cells = Jupyter.notebook.get_cells();\n",
       "                for (var i = 0; i < nbb_cells.length; ++i) {\n",
       "                    if (nbb_cells[i].input_prompt_number == nbb_cell_id) {\n",
       "                        if (nbb_cells[i].get_text() == nbb_unformatted_code) {\n",
       "                             nbb_cells[i].set_text(nbb_formatted_code);\n",
       "                        }\n",
       "                        break;\n",
       "                    }\n",
       "                }\n",
       "            }, 500);\n",
       "            "
      ],
      "text/plain": [
       "<IPython.core.display.Javascript object>"
      ]
     },
     "metadata": {},
     "output_type": "display_data"
    }
   ],
   "source": [
    "displacy.render(doc, style=\"ent\", jupyter=True)"
   ]
  },
  {
   "cell_type": "code",
   "execution_count": 7,
   "metadata": {},
   "outputs": [
    {
     "data": {
      "text/plain": [
       "'0c7caf'"
      ]
     },
     "execution_count": 7,
     "metadata": {},
     "output_type": "execute_result"
    },
    {
     "data": {
      "application/javascript": [
       "\n",
       "            setTimeout(function() {\n",
       "                var nbb_cell_id = 7;\n",
       "                var nbb_unformatted_code = \"import random\\n\\n\\\"%06x\\\" % random.randint(0, 0xFFFFFF)\";\n",
       "                var nbb_formatted_code = \"import random\\n\\n\\\"%06x\\\" % random.randint(0, 0xFFFFFF)\";\n",
       "                var nbb_cells = Jupyter.notebook.get_cells();\n",
       "                for (var i = 0; i < nbb_cells.length; ++i) {\n",
       "                    if (nbb_cells[i].input_prompt_number == nbb_cell_id) {\n",
       "                        if (nbb_cells[i].get_text() == nbb_unformatted_code) {\n",
       "                             nbb_cells[i].set_text(nbb_formatted_code);\n",
       "                        }\n",
       "                        break;\n",
       "                    }\n",
       "                }\n",
       "            }, 500);\n",
       "            "
      ],
      "text/plain": [
       "<IPython.core.display.Javascript object>"
      ]
     },
     "metadata": {},
     "output_type": "display_data"
    }
   ],
   "source": [
    "import random\n",
    "\n",
    "\"%06x\" % random.randint(0, 0xFFFFFF)"
   ]
  },
  {
   "cell_type": "code",
   "execution_count": 25,
   "metadata": {},
   "outputs": [
    {
     "data": {
      "text/plain": [
       "(<generator object uniqueid at 0x7f95fa143ac0>,\n",
       " 2515461859,\n",
       " 2515461860,\n",
       " 2515461861)"
      ]
     },
     "execution_count": 25,
     "metadata": {},
     "output_type": "execute_result"
    },
    {
     "data": {
      "application/javascript": [
       "\n",
       "            setTimeout(function() {\n",
       "                var nbb_cell_id = 25;\n",
       "                var nbb_unformatted_code = \"import random\\n\\n\\ndef uniqueid():\\n    seed = random.getrandbits(32)\\n    while True:\\n        yield seed\\n        seed += 1\\n\\n\\nunique_sequence = uniqueid()\\nid1 = next(unique_sequence)\\nid2 = next(unique_sequence)\\nid3 = next(unique_sequence)\\n\\nunique_sequence, id1, id2, id3\";\n",
       "                var nbb_formatted_code = \"import random\\n\\n\\ndef uniqueid():\\n    seed = random.getrandbits(32)\\n    while True:\\n        yield seed\\n        seed += 1\\n\\n\\nunique_sequence = uniqueid()\\nid1 = next(unique_sequence)\\nid2 = next(unique_sequence)\\nid3 = next(unique_sequence)\\n\\nunique_sequence, id1, id2, id3\";\n",
       "                var nbb_cells = Jupyter.notebook.get_cells();\n",
       "                for (var i = 0; i < nbb_cells.length; ++i) {\n",
       "                    if (nbb_cells[i].input_prompt_number == nbb_cell_id) {\n",
       "                        if (nbb_cells[i].get_text() == nbb_unformatted_code) {\n",
       "                             nbb_cells[i].set_text(nbb_formatted_code);\n",
       "                        }\n",
       "                        break;\n",
       "                    }\n",
       "                }\n",
       "            }, 500);\n",
       "            "
      ],
      "text/plain": [
       "<IPython.core.display.Javascript object>"
      ]
     },
     "metadata": {},
     "output_type": "display_data"
    }
   ],
   "source": [
    "import random\n",
    "\n",
    "\n",
    "def uniqueid():\n",
    "    seed = random.getrandbits(32)\n",
    "    while True:\n",
    "        yield seed\n",
    "        seed += 1\n",
    "\n",
    "\n",
    "unique_sequence = uniqueid()\n",
    "id1 = next(unique_sequence)\n",
    "id2 = next(unique_sequence)\n",
    "id3 = next(unique_sequence)\n",
    "\n",
    "unique_sequence, id1, id2, id3"
   ]
  }
 ],
 "metadata": {
  "kernelspec": {
   "display_name": "Python 3.8.2 64-bit",
   "language": "python",
   "name": "python38264bit73d3207b6ae743628477dbfe4180b8cf"
  },
  "language_info": {
   "codemirror_mode": {
    "name": "ipython",
    "version": 3
   },
   "file_extension": ".py",
   "mimetype": "text/x-python",
   "name": "python",
   "nbconvert_exporter": "python",
   "pygments_lexer": "ipython3",
   "version": "3.8.2"
  }
 },
 "nbformat": 4,
 "nbformat_minor": 4
}
